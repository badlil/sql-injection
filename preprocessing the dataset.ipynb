{
  "nbformat": 4,
  "nbformat_minor": 0,
  "metadata": {
    "colab": {
      "provenance": []
    },
    "kernelspec": {
      "name": "python3",
      "display_name": "Python 3"
    },
    "language_info": {
      "name": "python"
    }
  },
  "cells": [
    {
      "cell_type": "code",
      "execution_count": 1,
      "metadata": {
        "colab": {
          "base_uri": "https://localhost:8080/"
        },
        "id": "hv4j7l9fsXrs",
        "outputId": "d2634cc6-f07b-4a6d-9ef8-85f4beba98db"
      },
      "outputs": [
        {
          "output_type": "stream",
          "name": "stdout",
          "text": [
            "Requirement already satisfied: kaggle in /usr/local/lib/python3.10/dist-packages (1.5.16)\n",
            "Requirement already satisfied: six>=1.10 in /usr/local/lib/python3.10/dist-packages (from kaggle) (1.16.0)\n",
            "Requirement already satisfied: certifi in /usr/local/lib/python3.10/dist-packages (from kaggle) (2023.7.22)\n",
            "Requirement already satisfied: python-dateutil in /usr/local/lib/python3.10/dist-packages (from kaggle) (2.8.2)\n",
            "Requirement already satisfied: requests in /usr/local/lib/python3.10/dist-packages (from kaggle) (2.27.1)\n",
            "Requirement already satisfied: tqdm in /usr/local/lib/python3.10/dist-packages (from kaggle) (4.65.0)\n",
            "Requirement already satisfied: python-slugify in /usr/local/lib/python3.10/dist-packages (from kaggle) (8.0.1)\n",
            "Requirement already satisfied: urllib3 in /usr/local/lib/python3.10/dist-packages (from kaggle) (1.26.16)\n",
            "Requirement already satisfied: bleach in /usr/local/lib/python3.10/dist-packages (from kaggle) (6.0.0)\n",
            "Requirement already satisfied: webencodings in /usr/local/lib/python3.10/dist-packages (from bleach->kaggle) (0.5.1)\n",
            "Requirement already satisfied: text-unidecode>=1.3 in /usr/local/lib/python3.10/dist-packages (from python-slugify->kaggle) (1.3)\n",
            "Requirement already satisfied: charset-normalizer~=2.0.0 in /usr/local/lib/python3.10/dist-packages (from requests->kaggle) (2.0.12)\n",
            "Requirement already satisfied: idna<4,>=2.5 in /usr/local/lib/python3.10/dist-packages (from requests->kaggle) (3.4)\n"
          ]
        }
      ],
      "source": [
        "#installing the kaggle library\n",
        "!pip install kaggle"
      ]
    },
    {
      "cell_type": "markdown",
      "source": [
        "uploading kaggle.json file"
      ],
      "metadata": {
        "id": "oEdSwDWtFQEB"
      }
    },
    {
      "cell_type": "code",
      "source": [
        "# configuring the path of kaggle.json file\n",
        "!mkdir -p ~/.kaggle\n",
        "!cp kaggle.json ~/.kaggle/\n",
        "!chmod 600 ~/.kaggle/kaggle.json\n"
      ],
      "metadata": {
        "id": "sJJ2WIBjFacE"
      },
      "execution_count": 1,
      "outputs": []
    },
    {
      "cell_type": "markdown",
      "source": [
        "importing dataset"
      ],
      "metadata": {
        "id": "Br1czQV5HycH"
      }
    },
    {
      "cell_type": "code",
      "source": [
        "# API to fetch the dataset from kaggle\n",
        "!kaggle datasets download -d syedsaqlainhussain/sql-injection-dataset"
      ],
      "metadata": {
        "colab": {
          "base_uri": "https://localhost:8080/"
        },
        "id": "we3uaPk_H1o2",
        "outputId": "6e3358ee-9b7a-49c0-b748-f2710d06dcf2"
      },
      "execution_count": 2,
      "outputs": [
        {
          "output_type": "stream",
          "name": "stdout",
          "text": [
            "Downloading sql-injection-dataset.zip to /content\n",
            "\r  0% 0.00/1.14M [00:00<?, ?B/s]\n",
            "\r100% 1.14M/1.14M [00:00<00:00, 97.9MB/s]\n"
          ]
        }
      ]
    },
    {
      "cell_type": "code",
      "source": [
        "# extract the compressed dataset\n",
        "from zipfile import ZipFile\n",
        "dataset = '/content/sql-injection-dataset.zip'\n",
        "with ZipFile(dataset,'r') as zip:\n",
        "  zip.extractall()\n",
        "  print('the dataset is extracted')"
      ],
      "metadata": {
        "colab": {
          "base_uri": "https://localhost:8080/"
        },
        "id": "d08O-8VAJsYv",
        "outputId": "f5cc196e-ff24-4086-d245-63cd68a72c11"
      },
      "execution_count": 7,
      "outputs": [
        {
          "output_type": "stream",
          "name": "stdout",
          "text": [
            "the dataset is extracted\n"
          ]
        }
      ]
    },
    {
      "cell_type": "markdown",
      "source": [
        "importing the libraries"
      ],
      "metadata": {
        "id": "YX_0x7NZSNbV"
      }
    },
    {
      "cell_type": "code",
      "source": [
        "import pandas as pd\n",
        "import matplotlib.pyplot as plt\n",
        "import seaborn as sns"
      ],
      "metadata": {
        "id": "NH6HLB78SMox"
      },
      "execution_count": 8,
      "outputs": []
    },
    {
      "cell_type": "code",
      "source": [
        "dataset = pd.read_csv('/content/SQLiV3.csv')"
      ],
      "metadata": {
        "id": "gTAJiVJYSyV0"
      },
      "execution_count": 35,
      "outputs": []
    },
    {
      "cell_type": "code",
      "source": [
        "dataset.head"
      ],
      "metadata": {
        "colab": {
          "base_uri": "https://localhost:8080/"
        },
        "id": "FnPHs7FqX62o",
        "outputId": "a89e08f6-c5d1-4cf0-e915-be6ee12782c0"
      },
      "execution_count": 36,
      "outputs": [
        {
          "output_type": "execute_result",
          "data": {
            "text/plain": [
              "<bound method NDFrame.head of                                                 Sentence Label Unnamed: 2  \\\n",
              "0                      \" or pg_sleep  (  __TIME__  )  --     1        NaN   \n",
              "1      create user name identified by pass123 tempora...   NaN          1   \n",
              "2       AND 1  =  utl_inaddr.get_host_address   (    ...     1        NaN   \n",
              "3       select * from users where id  =  '1' or @ @1 ...     1        NaN   \n",
              "4       select * from users where id  =  1 or 1#\"  ( ...     1        NaN   \n",
              "...                                                  ...   ...        ...   \n",
              "30914              DELETE FROM door WHERE grow = 'small'     0        NaN   \n",
              "30915                               DELETE FROM tomorrow     0        NaN   \n",
              "30916                       SELECT wide ( s )  FROM west     0        NaN   \n",
              "30917       SELECT * FROM  ( SELECT slide FROM breath )      0        NaN   \n",
              "30918                           SELECT TOP 3 * FROM race     0        NaN   \n",
              "\n",
              "       Unnamed: 3  \n",
              "0             NaN  \n",
              "1             NaN  \n",
              "2             NaN  \n",
              "3             NaN  \n",
              "4             NaN  \n",
              "...           ...  \n",
              "30914         NaN  \n",
              "30915         NaN  \n",
              "30916         NaN  \n",
              "30917         NaN  \n",
              "30918         NaN  \n",
              "\n",
              "[30919 rows x 4 columns]>"
            ]
          },
          "metadata": {},
          "execution_count": 36
        }
      ]
    },
    {
      "cell_type": "markdown",
      "source": [
        "Removing unused columns"
      ],
      "metadata": {
        "id": "EU8iWLUmZo4C"
      }
    },
    {
      "cell_type": "code",
      "source": [
        "del dataset['Unnamed: 2']\n",
        "\n",
        "del dataset['Unnamed: 3']"
      ],
      "metadata": {
        "id": "EB7X02eNZfki"
      },
      "execution_count": 37,
      "outputs": []
    },
    {
      "cell_type": "code",
      "source": [
        "dataset.shape"
      ],
      "metadata": {
        "colab": {
          "base_uri": "https://localhost:8080/"
        },
        "id": "YBLwSDfLZr3X",
        "outputId": "e0903200-f191-43ed-9eef-d45e42ce3091"
      },
      "execution_count": 38,
      "outputs": [
        {
          "output_type": "execute_result",
          "data": {
            "text/plain": [
              "(30919, 2)"
            ]
          },
          "metadata": {},
          "execution_count": 38
        }
      ]
    },
    {
      "cell_type": "code",
      "source": [
        "dataset.head"
      ],
      "metadata": {
        "colab": {
          "base_uri": "https://localhost:8080/"
        },
        "id": "-u5hV9jwZz_H",
        "outputId": "6b2009c5-3673-477a-c298-943bd0eddabd"
      },
      "execution_count": 39,
      "outputs": [
        {
          "output_type": "execute_result",
          "data": {
            "text/plain": [
              "<bound method NDFrame.head of                                                 Sentence Label\n",
              "0                      \" or pg_sleep  (  __TIME__  )  --     1\n",
              "1      create user name identified by pass123 tempora...   NaN\n",
              "2       AND 1  =  utl_inaddr.get_host_address   (    ...     1\n",
              "3       select * from users where id  =  '1' or @ @1 ...     1\n",
              "4       select * from users where id  =  1 or 1#\"  ( ...     1\n",
              "...                                                  ...   ...\n",
              "30914              DELETE FROM door WHERE grow = 'small'     0\n",
              "30915                               DELETE FROM tomorrow     0\n",
              "30916                       SELECT wide ( s )  FROM west     0\n",
              "30917       SELECT * FROM  ( SELECT slide FROM breath )      0\n",
              "30918                           SELECT TOP 3 * FROM race     0\n",
              "\n",
              "[30919 rows x 2 columns]>"
            ]
          },
          "metadata": {},
          "execution_count": 39
        }
      ]
    },
    {
      "cell_type": "code",
      "source": [
        "print(\"----------------------------------------------------\")\n",
        "dataset.info()\n",
        "print(\"----------------------------------------------------\")"
      ],
      "metadata": {
        "colab": {
          "base_uri": "https://localhost:8080/"
        },
        "id": "4Nxy9nUObEu6",
        "outputId": "65a30d9c-45ed-4726-b0bd-38720359b599"
      },
      "execution_count": 40,
      "outputs": [
        {
          "output_type": "stream",
          "name": "stdout",
          "text": [
            "----------------------------------------------------\n",
            "<class 'pandas.core.frame.DataFrame'>\n",
            "RangeIndex: 30919 entries, 0 to 30918\n",
            "Data columns (total 2 columns):\n",
            " #   Column    Non-Null Count  Dtype \n",
            "---  ------    --------------  ----- \n",
            " 0   Sentence  30904 non-null  object\n",
            " 1   Label     30664 non-null  object\n",
            "dtypes: object(2)\n",
            "memory usage: 483.2+ KB\n",
            "----------------------------------------------------\n"
          ]
        }
      ]
    },
    {
      "cell_type": "code",
      "source": [
        "dataset['Label'].describe()"
      ],
      "metadata": {
        "colab": {
          "base_uri": "https://localhost:8080/"
        },
        "id": "-UemJSw-bRRq",
        "outputId": "2c245d90-d61d-46b2-e0ca-1f33ecd53885"
      },
      "execution_count": 42,
      "outputs": [
        {
          "output_type": "execute_result",
          "data": {
            "text/plain": [
              "count     30664\n",
              "unique       42\n",
              "top           0\n",
              "freq      19268\n",
              "Name: Label, dtype: object"
            ]
          },
          "metadata": {},
          "execution_count": 42
        }
      ]
    },
    {
      "cell_type": "markdown",
      "source": [
        "Process NaN values"
      ],
      "metadata": {
        "id": "CvZ8XEC0bi50"
      }
    },
    {
      "cell_type": "code",
      "source": [
        "dataset['Label'].isna().sum() # Count NaN label values."
      ],
      "metadata": {
        "colab": {
          "base_uri": "https://localhost:8080/"
        },
        "id": "optdLriSbe5S",
        "outputId": "7930d333-92f6-4f24-95e6-817f517ccf0a"
      },
      "execution_count": 44,
      "outputs": [
        {
          "output_type": "execute_result",
          "data": {
            "text/plain": [
              "255"
            ]
          },
          "metadata": {},
          "execution_count": 44
        }
      ]
    },
    {
      "cell_type": "code",
      "source": [
        "dataset = dataset.dropna() # Remove Nan values"
      ],
      "metadata": {
        "id": "d2m7AfmCbzsK"
      },
      "execution_count": 45,
      "outputs": []
    },
    {
      "cell_type": "markdown",
      "source": [
        "Fixing the target label"
      ],
      "metadata": {
        "id": "N_NGJel8b-aw"
      }
    },
    {
      "cell_type": "code",
      "source": [
        "# Get unique values existing in the label column.\n",
        "\n",
        "unique_label = pd.unique(dataset['Label'])\n",
        "\n",
        "print('\\n'.join(l for l in unique_label))"
      ],
      "metadata": {
        "colab": {
          "base_uri": "https://localhost:8080/"
        },
        "id": "npNV5wX9b_VU",
        "outputId": "bebf6a52-f90a-4dc2-d979-f124258067bc"
      },
      "execution_count": 47,
      "outputs": [
        {
          "output_type": "stream",
          "name": "stdout",
          "text": [
            "1\n",
            "SELECT *\n",
            " --\n",
            " desc users\n",
            " OR\n",
            "waitfor delay '0:0:__TIME__'--\n",
            " drop table temp --\n",
            "0\n",
            " grant resource to name\n",
            " EXEC SelectAllCustomers\n",
            " /*Select all the columns of all the records in the Customers table:*/\n",
            "*/\n",
            " CREATE VIEW [Products Above Average Price] AS\n",
            " CREATE OR REPLACE VIEW view_name AS\n",
            " DROP TABLE Suppliers\n",
            " CREATE PROCEDURE SelectAllCustomers AS\n",
            "  EXEC SelectAllCustomers\n",
            " DELETE FROM Customers  WHERE CustomerName = 'Alfreds Futterkiste'\n",
            " CREATE OR REPLACE VIEW [Brazil Customers] AS\n",
            "  SELECT * FROM CustomersLIMIT 3\n",
            "SELECT * FROM Customers\n",
            " SELECT TOP 50 PERCENT * FROM Customers\n",
            " SELECT * FROM CustomersFETCH FIRST 50 PERCENT ROWS ONLY\n",
            "SELECT TOP 3 * FROM Customers\n",
            " SELECT * FROM Customers\n",
            "SELECT SUM ( Quantity ) \n",
            " SELECT column_name ( s ) \n",
            " SELECT City FROM Customers\n"
          ]
        }
      ]
    },
    {
      "cell_type": "markdown",
      "source": [
        "Above, we can see that the label contains more than simply 0s and 1s. We need to fix the errors it includes."
      ],
      "metadata": {
        "id": "vqczuA5DcK59"
      }
    },
    {
      "cell_type": "code",
      "source": [
        "dataset = dataset.drop(dataset[(dataset['Label'] != '0') & (dataset['Label'] != '1')].index) # Dropping the label values, that are different from 0 or 1."
      ],
      "metadata": {
        "id": "n1sULzOEcMLY"
      },
      "execution_count": 49,
      "outputs": []
    },
    {
      "cell_type": "code",
      "source": [
        "dataset['Label'] = dataset['Label'].astype('int') # Convert the label type to integer."
      ],
      "metadata": {
        "id": "NjTBaw2Icc-c"
      },
      "execution_count": 50,
      "outputs": []
    },
    {
      "cell_type": "code",
      "source": [
        "dataset.info()"
      ],
      "metadata": {
        "colab": {
          "base_uri": "https://localhost:8080/"
        },
        "id": "olhbF4_DdT5o",
        "outputId": "a45a3980-0cc2-41ad-cbd0-a03475cbf713"
      },
      "execution_count": 51,
      "outputs": [
        {
          "output_type": "stream",
          "name": "stdout",
          "text": [
            "<class 'pandas.core.frame.DataFrame'>\n",
            "Int64Index: 30609 entries, 0 to 30918\n",
            "Data columns (total 2 columns):\n",
            " #   Column    Non-Null Count  Dtype \n",
            "---  ------    --------------  ----- \n",
            " 0   Sentence  30609 non-null  object\n",
            " 1   Label     30609 non-null  int64 \n",
            "dtypes: int64(1), object(1)\n",
            "memory usage: 717.4+ KB\n"
          ]
        }
      ]
    },
    {
      "cell_type": "code",
      "source": [
        "dataset[dataset['Label'] == 1].count() # Count how much label are 1."
      ],
      "metadata": {
        "colab": {
          "base_uri": "https://localhost:8080/"
        },
        "id": "0C7QKoOAdbTs",
        "outputId": "8ca0eef8-1ebc-4f49-d1ef-7017a929a15c"
      },
      "execution_count": 52,
      "outputs": [
        {
          "output_type": "execute_result",
          "data": {
            "text/plain": [
              "Sentence    11341\n",
              "Label       11341\n",
              "dtype: int64"
            ]
          },
          "metadata": {},
          "execution_count": 52
        }
      ]
    },
    {
      "cell_type": "code",
      "source": [
        "dataset[dataset['Label'] == 0].count() # Count how much label are 0."
      ],
      "metadata": {
        "colab": {
          "base_uri": "https://localhost:8080/"
        },
        "id": "Z8ojQKSHdjYW",
        "outputId": "b6fc4402-ef96-4e2f-a1ae-38a9650a8a64"
      },
      "execution_count": 53,
      "outputs": [
        {
          "output_type": "execute_result",
          "data": {
            "text/plain": [
              "Sentence    19268\n",
              "Label       19268\n",
              "dtype: int64"
            ]
          },
          "metadata": {},
          "execution_count": 53
        }
      ]
    },
    {
      "cell_type": "markdown",
      "source": [
        "Distribution of the label"
      ],
      "metadata": {
        "id": "d4JwfRiRdwbo"
      }
    },
    {
      "cell_type": "code",
      "source": [
        "dataset.head"
      ],
      "metadata": {
        "colab": {
          "base_uri": "https://localhost:8080/"
        },
        "id": "ZWNtYY9xdxvI",
        "outputId": "e383e10d-4d81-461e-b5dd-f0c9c4eec81d"
      },
      "execution_count": 66,
      "outputs": [
        {
          "output_type": "execute_result",
          "data": {
            "text/plain": [
              "<bound method NDFrame.head of                                                 Sentence  Label\n",
              "0                      \" or pg_sleep  (  __TIME__  )  --      1\n",
              "2       AND 1  =  utl_inaddr.get_host_address   (    ...      1\n",
              "3       select * from users where id  =  '1' or @ @1 ...      1\n",
              "4       select * from users where id  =  1 or 1#\"  ( ...      1\n",
              "5       select name from syscolumns where id   =     ...      1\n",
              "...                                                  ...    ...\n",
              "30914              DELETE FROM door WHERE grow = 'small'      0\n",
              "30915                               DELETE FROM tomorrow      0\n",
              "30916                       SELECT wide ( s )  FROM west      0\n",
              "30917       SELECT * FROM  ( SELECT slide FROM breath )       0\n",
              "30918                           SELECT TOP 3 * FROM race      0\n",
              "\n",
              "[30609 rows x 2 columns]>"
            ]
          },
          "metadata": {},
          "execution_count": 66
        }
      ]
    }
  ]
}
